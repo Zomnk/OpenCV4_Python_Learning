{
 "cells": [
  {
   "cell_type": "markdown",
   "metadata": {},
   "source": [
    "### **直线检测（3）**"
   ]
  },
  {
   "cell_type": "markdown",
   "metadata": {},
   "source": [
    "在实际工程或任务需求中，我们可能得到图像中一些点的坐标而不是一幅完整图像，cv.HoughLinesPointSet()可在含有坐标的众多点中判断是否存在直线的函数"
   ]
  },
  {
   "cell_type": "code",
   "execution_count": 3,
   "metadata": {},
   "outputs": [],
   "source": [
    "# -*- coding:utf-8 -*-\n",
    "import cv2 as cv\n",
    "import numpy as np\n",
    "import sys\n",
    "%matplotlib inline\n",
    "import matplotlib\n",
    "import matplotlib.pyplot as plt\n",
    "# 设置中文字体\n",
    "matplotlib.rcParams['font.family'] = 'simhei'\n",
    "matplotlib.rcParams['axes.unicode_minus'] = False\n",
    "rootpath = '/home/zomnk/python_ws/02-OpenCV4/images/'"
   ]
  },
  {
   "cell_type": "code",
   "execution_count": 5,
   "metadata": {},
   "outputs": [
    {
     "name": "stdout",
     "output_type": "stream",
     "text": [
      "\u001b[0;31mDocstring:\u001b[0m\n",
      "HoughLinesPointSet(_point, lines_max, threshold, min_rho, max_rho, rho_step, min_theta, max_theta, theta_step[, _lines]) -> _lines\n",
      ".   @brief Finds lines in a set of points using the standard Hough transform.\n",
      ".   \n",
      ".   The function finds lines in a set of points using a modification of the Hough transform.\n",
      ".   @include snippets/imgproc_HoughLinesPointSet.cpp\n",
      ".   @param _point Input vector of points. Each vector must be encoded as a Point vector \\f$(x,y)\\f$. Type must be CV_32FC2 or CV_32SC2.\n",
      ".   @param _lines Output vector of found lines. Each vector is encoded as a vector<Vec3d> \\f$(votes, rho, theta)\\f$.\n",
      ".   The larger the value of 'votes', the higher the reliability of the Hough line.\n",
      ".   @param lines_max Max count of hough lines.\n",
      ".   @param threshold Accumulator threshold parameter. Only those lines are returned that get enough\n",
      ".   votes ( \\f$>\\texttt{threshold}\\f$ )\n",
      ".   @param min_rho Minimum Distance value of the accumulator in pixels.\n",
      ".   @param max_rho Maximum Distance value of the accumulator in pixels.\n",
      ".   @param rho_step Distance resolution of the accumulator in pixels.\n",
      ".   @param min_theta Minimum angle value of the accumulator in radians.\n",
      ".   @param max_theta Maximum angle value of the accumulator in radians.\n",
      ".   @param theta_step Angle resolution of the accumulator in radians.\n",
      "\u001b[0;31mType:\u001b[0m      builtin_function_or_method\n"
     ]
    }
   ],
   "source": [
    "cv.HoughLinesPointSet?"
   ]
  },
  {
   "cell_type": "code",
   "execution_count": null,
   "metadata": {},
   "outputs": [],
   "source": [
    "# 设置float32类型的20 * 2矩阵，表示2D点集\n",
    "points = np.array([[[0.0, 369.0], [10.0, 364.0], [20.0, 358.0], [30.0, 352.0], [40.0, 346.0],\n",
    "                       [50.0, 341.0], [60.0, 335.0], [70.0, 329.0], [80.0, 323.0], [90.0, 318.0],\n",
    "                       [100.0, 312.0], [110, 306.0], [120.0, 300.0], [130.0, 295.0], [140.0, 289.0],\n",
    "                       [150.0, 284.0], [160.0, 277.0], [170.0, 271.0], [180.0, 266.0], [190.0, 260.0]]],\n",
    "                      dtype='float32')"
   ]
  },
  {
   "cell_type": "code",
   "execution_count": null,
   "metadata": {},
   "outputs": [],
   "source": []
  }
 ],
 "metadata": {
  "kernelspec": {
   "display_name": "opencv",
   "language": "python",
   "name": "python3"
  },
  "language_info": {
   "codemirror_mode": {
    "name": "ipython",
    "version": 3
   },
   "file_extension": ".py",
   "mimetype": "text/x-python",
   "name": "python",
   "nbconvert_exporter": "python",
   "pygments_lexer": "ipython3",
   "version": "3.7.12"
  }
 },
 "nbformat": 4,
 "nbformat_minor": 2
}
