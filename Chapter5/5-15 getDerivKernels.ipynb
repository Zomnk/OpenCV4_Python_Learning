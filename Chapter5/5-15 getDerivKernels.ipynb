{
 "cells": [
  {
   "cell_type": "markdown",
   "metadata": {},
   "source": [
    "### **生成边缘检测滤波器**"
   ]
  },
  {
   "cell_type": "markdown",
   "metadata": {},
   "source": [
    "有时我们需要得到提取图像边缘的滤波器，并修改滤波器以提升边缘检测的效果"
   ]
  },
  {
   "cell_type": "markdown",
   "metadata": {},
   "source": [
    "第1和第2个参数决定边缘提取效果，第3个参数如果取1，3，5，7，则生成的边缘检测算子就是Sobel算子，如果取cv.FILTER_SCHARR,则生成的是Scharr算子"
   ]
  },
  {
   "cell_type": "code",
   "execution_count": 9,
   "metadata": {},
   "outputs": [],
   "source": [
    "# -*- coding:utf-8 -*-\n",
    "import cv2 as cv\n",
    "import numpy as np\n",
    "import sys\n",
    "%matplotlib inline\n",
    "import matplotlib\n",
    "import matplotlib.pyplot as plt\n",
    "# 设置中文字体\n",
    "matplotlib.rcParams['font.family'] = 'simhei'\n",
    "matplotlib.rcParams['axes.unicode_minus'] = False\n",
    "rootpath = '/home/zomnk/python_ws/02-OpenCV4/images/'"
   ]
  },
  {
   "cell_type": "code",
   "execution_count": 10,
   "metadata": {},
   "outputs": [
    {
     "name": "stdout",
     "output_type": "stream",
     "text": [
      "一阶x方向的Sobel算子为：\n",
      "[[-1.  0.  1.]\n",
      " [-2.  0.  2.]\n",
      " [-1.  0.  1.]]\n"
     ]
    }
   ],
   "source": [
    "# 一阶x方向的Sobel算子\n",
    "sobel_x1, sobel_y1 = cv.getDerivKernels(1, 0, 3)\n",
    "sobel_X1 = sobel_y1 * sobel_x1.T\n",
    "print('一阶x方向的Sobel算子为：\\n{}'.format(sobel_X1))"
   ]
  },
  {
   "cell_type": "code",
   "execution_count": 11,
   "metadata": {},
   "outputs": [
    {
     "name": "stdout",
     "output_type": "stream",
     "text": [
      "二阶x方向的Sobel算子为：\n",
      "[[  1.   0.  -2.   0.   1.]\n",
      " [  4.   0.  -8.   0.   4.]\n",
      " [  6.   0. -12.   0.   6.]\n",
      " [  4.   0.  -8.   0.   4.]\n",
      " [  1.   0.  -2.   0.   1.]]\n"
     ]
    }
   ],
   "source": [
    "# 二阶x方向的Sobel算子\n",
    "sobel_x2, sobel_y2 = cv.getDerivKernels(2, 0, 5)\n",
    "sobel_X2 = sobel_y2 * sobel_x2.T\n",
    "print('二阶x方向的Sobel算子为：\\n{}'.format(sobel_X2))"
   ]
  },
  {
   "cell_type": "code",
   "execution_count": 12,
   "metadata": {},
   "outputs": [
    {
     "name": "stdout",
     "output_type": "stream",
     "text": [
      "三阶x方向的Sobel算子为：\n",
      "[[ -1.   0.   3.   0.  -3.   0.   1.]\n",
      " [ -6.   0.  18.   0. -18.   0.   6.]\n",
      " [-15.   0.  45.   0. -45.   0.  15.]\n",
      " [-20.   0.  60.   0. -60.   0.  20.]\n",
      " [-15.   0.  45.   0. -45.   0.  15.]\n",
      " [ -6.   0.  18.   0. -18.   0.   6.]\n",
      " [ -1.   0.   3.   0.  -3.   0.   1.]]\n"
     ]
    }
   ],
   "source": [
    "# 三阶x方向的Sobel算子\n",
    "sobel_x3, sobel_y3 = cv.getDerivKernels(3, 0, 7)\n",
    "sobel_X3 = sobel_y3 * sobel_x3.T\n",
    "print('三阶x方向的Sobel算子为：\\n{}'.format(sobel_X3))"
   ]
  },
  {
   "cell_type": "code",
   "execution_count": 13,
   "metadata": {},
   "outputs": [
    {
     "name": "stdout",
     "output_type": "stream",
     "text": [
      "x方向的Schaar算子为：\n",
      "[[ -3.   0.   3.]\n",
      " [-10.   0.  10.]\n",
      " [ -3.   0.   3.]]\n"
     ]
    }
   ],
   "source": [
    "# x方向的Schaar算子\n",
    "sobel_x, sobel_y = cv.getDerivKernels(1, 0, cv.FILTER_SCHARR)\n",
    "sobel_X = sobel_y * sobel_x.T\n",
    "print('x方向的Schaar算子为：\\n{}'.format(sobel_X))"
   ]
  }
 ],
 "metadata": {
  "kernelspec": {
   "display_name": "opencv",
   "language": "python",
   "name": "python3"
  },
  "language_info": {
   "codemirror_mode": {
    "name": "ipython",
    "version": 3
   },
   "file_extension": ".py",
   "mimetype": "text/x-python",
   "name": "python",
   "nbconvert_exporter": "python",
   "pygments_lexer": "ipython3",
   "version": "3.7.12"
  }
 },
 "nbformat": 4,
 "nbformat_minor": 2
}
