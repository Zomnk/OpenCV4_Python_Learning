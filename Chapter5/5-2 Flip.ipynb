{
 "cells": [
  {
   "cell_type": "markdown",
   "metadata": {},
   "source": [
    "### **卷积模板旋转180度**"
   ]
  },
  {
   "cell_type": "markdown",
   "metadata": {},
   "source": [
    "如果卷积模板不是中心对称的，使用cv.flip()函数可以旋转180度"
   ]
  },
  {
   "cell_type": "code",
   "execution_count": 4,
   "metadata": {},
   "outputs": [],
   "source": [
    "# -*- coding:utf-8 -*-\n",
    "import cv2 as cv\n",
    "import numpy as np\n",
    "import sys\n",
    "%matplotlib inline\n",
    "import matplotlib\n",
    "import matplotlib.pyplot as plt\n",
    "# 设置中文字体\n",
    "matplotlib.rcParams['font.family'] = 'simhei'\n",
    "matplotlib.rcParams['axes.unicode_minus'] = False\n",
    "rootpath = '/home/zomnk/python_ws/02-OpenCV4/images/'"
   ]
  },
  {
   "cell_type": "code",
   "execution_count": null,
   "metadata": {},
   "outputs": [
    {
     "name": "stdout",
     "output_type": "stream",
     "text": [
      "原卷积模板为：\n",
      "[[ 1.  2.  3.  4.  5.]\n",
      " [ 6.  7.  8.  9. 10.]\n",
      " [11. 12. 13. 14. 15.]\n",
      " [16. 17. 18. 19. 20.]\n",
      " [21. 22. 23. 24. 25.]]\n",
      "旋转180°后的卷积模板为：\n",
      "[[25. 24. 23. 22. 21.]\n",
      " [20. 19. 18. 17. 16.]\n",
      " [15. 14. 13. 12. 11.]\n",
      " [10.  9.  8.  7.  6.]\n",
      " [ 5.  4.  3.  2.  1.]]\n"
     ]
    }
   ],
   "source": [
    "src = np.array([[1, 2, 3, 4, 5], [6, 7, 8, 9, 10], [11, 12, 13, 14, 15], [16, 17, 18, 19, 20], [21, 22, 23, 24, 25]], dtype='float32')\n",
    "kernel1 = np.array([[1, 1, 1], [1, 1, 1], [1, 1, 1]], dtype='float32') / 9\n",
    "# 卷积模版旋转180度\n",
    "result = cv.flip(src, -1) \n",
    "print('原卷积模板为：\\n{}'.format(src))\n",
    "print('旋转180°后的卷积模板为：\\n{}'.format(result))"
   ]
  },
  {
   "cell_type": "code",
   "execution_count": null,
   "metadata": {},
   "outputs": [],
   "source": []
  }
 ],
 "metadata": {
  "kernelspec": {
   "display_name": "opencv",
   "language": "python",
   "name": "python3"
  },
  "language_info": {
   "codemirror_mode": {
    "name": "ipython",
    "version": 3
   },
   "file_extension": ".py",
   "mimetype": "text/x-python",
   "name": "python",
   "nbconvert_exporter": "python",
   "pygments_lexer": "ipython3",
   "version": "3.7.12"
  }
 },
 "nbformat": 4,
 "nbformat_minor": 2
}
