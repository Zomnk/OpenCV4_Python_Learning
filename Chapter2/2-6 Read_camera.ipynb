{
 "cells": [
  {
   "cell_type": "markdown",
   "metadata": {},
   "source": [
    "#### **调用摄像头**"
   ]
  },
  {
   "cell_type": "code",
   "execution_count": 9,
   "metadata": {},
   "outputs": [],
   "source": [
    "# -*- coding:utf-8 -*-\n",
    "import cv2 as cv"
   ]
  },
  {
   "cell_type": "code",
   "execution_count": 10,
   "metadata": {},
   "outputs": [
    {
     "name": "stdout",
     "output_type": "stream",
     "text": [
      "视频中图像的宽度为：640.0\n",
      "视频中图像的高度为：480.0\n",
      "视频帧率为：30.0\n",
      "视频总帧数为：-1.0\n"
     ]
    },
    {
     "name": "stderr",
     "output_type": "stream",
     "text": [
      "VIDEOIO ERROR: V4L2: property frame_count is not supported\n"
     ]
    }
   ],
   "source": [
    "# 将路径改为0,调用设备的硬件映射接口，0表示使用计算机默认的摄像头\n",
    "video = cv.VideoCapture(0)\n",
    "# 判断是否成功创建视频流\n",
    "while video.isOpened():\n",
    "    ret, frame = video.read()\n",
    "    if ret is True:\n",
    "        # 对摄像头拍摄图像进行水平翻转\n",
    "        # frame = cv.flip(frame, 1)\n",
    "        res = cv.bilateralFilter(frame, 9, 50, 50)\n",
    "        cv.imshow('Video', frame)\n",
    "        # 设置视频播放速度\n",
    "        # 读者可以尝试将该值做更改，并观看视频播放速度的变化\n",
    "        cv.waitKey(int(1000 / video.get(cv.CAP_PROP_FPS)))\n",
    "        # 按下q退出\n",
    "        if cv.waitKey(1) & 0xFF == ord('q'):\n",
    "            break\n",
    "    else:\n",
    "        break\n",
    "# 输出相关信息\n",
    "print('视频中图像的宽度为：{}'.format(video.get(cv.CAP_PROP_FRAME_WIDTH)))\n",
    "print('视频中图像的高度为：{}'.format(video.get(cv.CAP_PROP_FRAME_HEIGHT)))\n",
    "print('视频帧率为：{}'.format(video.get(cv.CAP_PROP_FPS)))\n",
    "print('视频总帧数为：{}'.format(video.get(cv.CAP_PROP_FRAME_COUNT)))\n",
    "# 释放并关闭窗口\n",
    "video.release()\n",
    "cv.destroyAllWindows()"
   ]
  },
  {
   "cell_type": "code",
   "execution_count": null,
   "metadata": {},
   "outputs": [],
   "source": []
  },
  {
   "cell_type": "code",
   "execution_count": null,
   "metadata": {},
   "outputs": [],
   "source": []
  },
  {
   "cell_type": "code",
   "execution_count": null,
   "metadata": {},
   "outputs": [],
   "source": []
  }
 ],
 "metadata": {
  "kernelspec": {
   "display_name": "opencv",
   "language": "python",
   "name": "python3"
  },
  "language_info": {
   "codemirror_mode": {
    "name": "ipython",
    "version": 3
   },
   "file_extension": ".py",
   "mimetype": "text/x-python",
   "name": "python",
   "nbconvert_exporter": "python",
   "pygments_lexer": "ipython3",
   "version": "3.7.12"
  }
 },
 "nbformat": 4,
 "nbformat_minor": 2
}
