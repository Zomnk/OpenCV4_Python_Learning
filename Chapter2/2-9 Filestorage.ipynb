{
 "cells": [
  {
   "cell_type": "markdown",
   "metadata": {},
   "source": [
    "### **保存和读取XML和YAML文件**"
   ]
  },
  {
   "cell_type": "code",
   "execution_count": 5,
   "metadata": {},
   "outputs": [],
   "source": [
    "# -*- coding:utf-8 -*-\n",
    "import cv2 as cv\n",
    "import numpy as np\n",
    "rootpath = '/home/zomnk/python_ws/02-OpenCV4/data/'"
   ]
  },
  {
   "cell_type": "code",
   "execution_count": 10,
   "metadata": {},
   "outputs": [],
   "source": [
    "# 创建FileStorage对象file，用于写入数据\n",
    "# file = cv.FileStorage(rootpath + 'MyFile.xml', cv.FileStorage_WRITE)\n",
    "file = cv.FileStorage(rootpath + 'MyFile.yml', cv.FileStorage_WRITE)\n",
    "# file = cv.FileStorage(rootpath + 'MyFile.yaml', cv.FileStorage_WRITE)\n",
    "\n",
    "\n",
    "# 写入数据\n",
    "file.write('name', '张三')\n",
    "file.write('age', 16)\n",
    "file.write('date', '2019-01-01')\n",
    "scores = np.array([[98, 99], [96, 97], [95, 98]])\n",
    "file.write('scores', scores)\n",
    "\n",
    "# 释放对象\n",
    "file.release()\n"
   ]
  },
  {
   "cell_type": "code",
   "execution_count": 7,
   "metadata": {},
   "outputs": [
    {
     "name": "stdout",
     "output_type": "stream",
     "text": [
      "姓名：张三\n",
      "年龄：16.0\n",
      "记录日期：2019-01-01\n",
      "成绩单：[[98 99]\n",
      " [96 97]\n",
      " [95 98]]\n"
     ]
    }
   ],
   "source": [
    "# 创建MyFile.xml对象file1,用于读取数据\n",
    "file1 = cv.FileStorage(rootpath + 'MyFile.xml', cv.FileStorage_READ)\n",
    "\n",
    "# 判断文件是否成功打开\n",
    "if file1.isOpened():\n",
    "    # 读取数据\n",
    "    name1 = file1.getNode('name').string()\n",
    "    age1 = file1.getNode('age').real()\n",
    "    date1 = file1.getNode('date').string()\n",
    "    scores1 = file1.getNode('scores').mat()\n",
    "    \n",
    "    # 展示读取结果\n",
    "    print('姓名：{}'.format(name1))\n",
    "    print('年龄：{}'.format(age1))\n",
    "    print('记录日期：{}'.format(date1))\n",
    "    print('成绩单：{}'.format(scores1))\n",
    "else:\n",
    "    print('Can\\'t open Myfile.xml.')\n",
    "    \n",
    "# 释放对象\n",
    "file1.release()"
   ]
  },
  {
   "cell_type": "code",
   "execution_count": null,
   "metadata": {},
   "outputs": [],
   "source": []
  }
 ],
 "metadata": {
  "kernelspec": {
   "display_name": "opencv",
   "language": "python",
   "name": "python3"
  },
  "language_info": {
   "codemirror_mode": {
    "name": "ipython",
    "version": 3
   },
   "file_extension": ".py",
   "mimetype": "text/x-python",
   "name": "python",
   "nbconvert_exporter": "python",
   "pygments_lexer": "ipython3",
   "version": "3.7.12"
  }
 },
 "nbformat": 4,
 "nbformat_minor": 2
}
