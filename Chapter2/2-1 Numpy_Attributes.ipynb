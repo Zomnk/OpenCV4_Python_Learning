{
 "cells": [
  {
   "cell_type": "markdown",
   "metadata": {},
   "source": [
    "### **ndarray对象常用属性的使用示例**"
   ]
  },
  {
   "cell_type": "code",
   "execution_count": 3,
   "metadata": {},
   "outputs": [],
   "source": [
    "# -*- coding:utf-8 -*-\n",
    "import cv2 as cv\n",
    "import sys\n",
    "rootpath = '/home/zomnk/python_ws/02-OpenCV4/images/'"
   ]
  },
  {
   "cell_type": "code",
   "execution_count": 4,
   "metadata": {},
   "outputs": [
    {
     "name": "stdout",
     "output_type": "stream",
     "text": [
      "图像的形状: (442, 442, 3)\n",
      "元素数据类型: uint8\n",
      "图像通道数: 3\n",
      "像素总数: 586092\n"
     ]
    }
   ],
   "source": [
    "img = cv.imread(rootpath + 'flower.jpg')\n",
    "# print(img)\n",
    "# 读取图像，并判断图像是否读取成功\n",
    "if img is None:\n",
    "    print('Failed to read flowers.jpg')\n",
    "    sys.exit\n",
    "else:\n",
    "    print('图像的形状: {}\\n元素数据类型: {}\\n图像通道数: {}\\n像素总数: {}'.format(img.shape, img.dtype, img.ndim, img.size))"
   ]
  },
  {
   "cell_type": "code",
   "execution_count": null,
   "metadata": {},
   "outputs": [],
   "source": []
  }
 ],
 "metadata": {
  "kernelspec": {
   "display_name": "opencv",
   "language": "python",
   "name": "python3"
  },
  "language_info": {
   "codemirror_mode": {
    "name": "ipython",
    "version": 3
   },
   "file_extension": ".py",
   "mimetype": "text/x-python",
   "name": "python",
   "nbconvert_exporter": "python",
   "pygments_lexer": "ipython3",
   "version": "3.7.12"
  }
 },
 "nbformat": 4,
 "nbformat_minor": 2
}
