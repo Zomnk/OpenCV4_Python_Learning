{
 "cells": [
  {
   "cell_type": "markdown",
   "metadata": {},
   "source": [
    "### **读取视频数据**"
   ]
  },
  {
   "cell_type": "code",
   "execution_count": 1,
   "metadata": {},
   "outputs": [],
   "source": [
    "# -*- coding:utf-8 -*-\n",
    "import cv2 as cv\n",
    "rootpath = '/home/zomnk/python_ws/02-OpenCV4/videos/'"
   ]
  },
  {
   "cell_type": "code",
   "execution_count": 10,
   "metadata": {},
   "outputs": [
    {
     "name": "stdout",
     "output_type": "stream",
     "text": [
      "视频中图像的宽度为960.0\n",
      "视频中图像的高度为544.0\n",
      "视频帧率为29.541150764748725\n",
      "视频总帧数为1014.0\n"
     ]
    }
   ],
   "source": [
    "video = cv.VideoCapture(rootpath + 'road.mp4')\n",
    "# 判断是否成功创建了视频流\n",
    "while video.isOpened():\n",
    "    # video.read()函数用来读取一帧图像，图像存放在img中，是否读取到存放在ret中\n",
    "    ret, frame = video.read()\n",
    "    # print(ret)\n",
    "    if ret is True:\n",
    "        cv.imshow('Video', frame)\n",
    "        # 设置视频播放速度\n",
    "        # cv.waitKey(int(1000 / video.get(cv.CAP_PROP_FPS))) 按照原帧率显示视频，设置间隔高于这个数，播放速度减慢，反之\n",
    "        cv.waitKey(int(10000 / video.get(cv.CAP_PROP_FPS)))\n",
    "        # 按下Q键退出\n",
    "        # ord(‘q’)返回ord(‘q’)的ASCII表示形式，为113（十六进制为0x71），输入键与0xFF作与操作\n",
    "        if cv.waitKey(1) & 0xFF == ord('q'):\n",
    "            break\n",
    "    else:\n",
    "        break\n",
    "# 输出相关信息\n",
    "# video.get() 可以查看视频属性，如像素大小，帧数等\n",
    "print('视频中图像的宽度为{}'.format(video.get(cv.CAP_PROP_FRAME_WIDTH)))\n",
    "print('视频中图像的高度为{}'.format(video.get(cv.CAP_PROP_FRAME_HEIGHT)))\n",
    "print('视频帧率为{}'.format(video.get(cv.CAP_PROP_FPS)))\n",
    "print('视频总帧数为{}'.format(video.get(cv.CAP_PROP_FRAME_COUNT)))\n",
    "\n",
    "# 释放并关闭窗口\n",
    "video.release()\n",
    "cv.destroyAllWindows()"
   ]
  },
  {
   "cell_type": "code",
   "execution_count": null,
   "metadata": {},
   "outputs": [],
   "source": []
  }
 ],
 "metadata": {
  "kernelspec": {
   "display_name": "opencv",
   "language": "python",
   "name": "python3"
  },
  "language_info": {
   "codemirror_mode": {
    "name": "ipython",
    "version": 3
   },
   "file_extension": ".py",
   "mimetype": "text/x-python",
   "name": "python",
   "nbconvert_exporter": "python",
   "pygments_lexer": "ipython3",
   "version": "3.7.12"
  }
 },
 "nbformat": 4,
 "nbformat_minor": 2
}
