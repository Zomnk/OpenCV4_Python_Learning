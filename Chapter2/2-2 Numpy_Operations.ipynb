{
 "cells": [
  {
   "cell_type": "markdown",
   "metadata": {},
   "source": [
    "### **NumPy相关函数的操作示例**"
   ]
  },
  {
   "cell_type": "code",
   "execution_count": 1,
   "metadata": {},
   "outputs": [],
   "source": [
    "# -*- coding:utf-8 -*-\n",
    "import cv2 as cv\n",
    "import numpy as np\n",
    "import sys\n",
    "import datetime\n",
    "rootpath = '/home/zomnk/python_ws/02-OpenCV4/images/'"
   ]
  },
  {
   "cell_type": "markdown",
   "metadata": {},
   "source": [
    "#### 创建ndarray对象"
   ]
  },
  {
   "cell_type": "code",
   "execution_count": 2,
   "metadata": {},
   "outputs": [
    {
     "name": "stdout",
     "output_type": "stream",
     "text": [
      "创建对象(np.array): \n",
      "[[ 1.  2.  3.  4.  5.]\n",
      " [ 6.  7.  8.  9. 10.]\n",
      " [11. 12. 13. 14. 15.]\n",
      " [16. 17. 18. 19. 20.]\n",
      " [21. 22. 23. 24. 25.]]\n",
      "创建对象(np.ones): \n",
      "[[1 1 1 1 1]\n",
      " [1 1 1 1 1]\n",
      " [1 1 1 1 1]\n",
      " [1 1 1 1 1]\n",
      " [1 1 1 1 1]]\n",
      "创建对象(np.zeros): \n",
      "[[0. 0. 0. 0. 0.]\n",
      " [0. 0. 0. 0. 0.]\n",
      " [0. 0. 0. 0. 0.]\n",
      " [0. 0. 0. 0. 0.]\n",
      " [0. 0. 0. 0. 0.]]\n"
     ]
    }
   ],
   "source": [
    "# 使用np.array()创建一个5*5,数据类型为float32的对象(即矩阵)\n",
    "a = np.array([[1,2,3,4,5],[6,7,8,9,10],[11,12,13,14,15],[16,17,18,19,20],[21,22,23,24,25]], dtype='float32')\n",
    "# 使用np.ones()创建一个5*5,数据类型为uint8的全1对象\n",
    "b = np.ones((5,5), dtype='uint8')\n",
    "# 使用np.zeros()创建一个5*5,数据类型为float32的全0对象\n",
    "c = np.zeros((5,5), dtype='float32')\n",
    "print('创建对象(np.array): \\n{}'.format(a))\n",
    "print('创建对象(np.ones): \\n{}'.format(b))\n",
    "print('创建对象(np.zeros): \\n{}'.format(c))"
   ]
  },
  {
   "cell_type": "markdown",
   "metadata": {},
   "source": [
    "#### ndarray对象切片和索引"
   ]
  },
  {
   "cell_type": "code",
   "execution_count": 9,
   "metadata": {},
   "outputs": [
    {
     "name": "stdout",
     "output_type": "stream",
     "text": [
      "位于(45,45)处的像素值为: 235\n",
      "(442, 442, 3)\n"
     ]
    }
   ],
   "source": [
    "image = cv.imread(rootpath + 'flower.jpg')\n",
    "# 读取图像，并判断图像是否读取成功\n",
    "if image is None:\n",
    "    print('Failed to read flowers.jpg')\n",
    "    sys.exit\n",
    "# 创建灰度图对象\n",
    "gray = cv.cvtColor(image, cv.COLOR_BGR2GRAY)\n",
    "# 读取图像位于(45,45)处的像素值\n",
    "print('位于(45,45)处的像素值为: {}'.format(gray[45,45]))"
   ]
  },
  {
   "cell_type": "code",
   "execution_count": 10,
   "metadata": {},
   "outputs": [],
   "source": [
    "# 裁减部分图像(灰度图像和RGB图像)\n",
    "res_gray = gray[30:260, 50:350]\n",
    "res_color1 = image[30:260, 50:350, :]\n",
    "res_color2 = image[100:220, 80:220, :]\n",
    "# 进行通道分离\n",
    "b = image[:, :, 0]\n",
    "g = image[:, :, 1]\n",
    "r = image[:, :, 2]\n",
    "# 展示裁减和分离通道的结果\n",
    "cv.imshow('Result crop gray',res_gray)\n",
    "cv.imshow('Result crop color1',res_color1)\n",
    "cv.imshow('Result crop color2',res_color2)\n",
    "cv.imshow('Result split b',b)\n",
    "cv.imshow('Result split g',g)\n",
    "cv.imshow('Result split r',r)\n",
    "\n",
    "\n",
    "# 等待按键按下\n",
    "cv.waitKey(0);\n",
    "# 结束所有窗口\n",
    "cv.destroyAllWindows()"
   ]
  },
  {
   "cell_type": "markdown",
   "metadata": {},
   "source": [
    "#### 生成随机数"
   ]
  },
  {
   "cell_type": "code",
   "execution_count": 15,
   "metadata": {},
   "outputs": [
    {
     "name": "stdout",
     "output_type": "stream",
     "text": [
      "生成随机数(np.random.randint): \n",
      "[[ 7 15 15 50 98]\n",
      " [76 87  4 58 70]\n",
      " [13 90 54 49 75]\n",
      " [85 43 83  5 41]\n",
      " [21 31 53 85 18]]\n",
      "生成随机数(np.random.randn): \n",
      "[[-0.17828999  0.08079913 -1.27946203]\n",
      " [ 1.62711765  2.17181913 -1.01341918]]\n"
     ]
    }
   ],
   "source": [
    "# 生成一个5*5,取值范围为0~100的数组\n",
    "values1 = np.random.randint(0, 100, (5,5), dtype='uint8')\n",
    "# 生成一个2*3、元素服从均值为0,标准差为1的正态分布的数组\n",
    "values2 = np.random.randn(2, 3)\n",
    "print('生成随机数(np.random.randint): \\n{}'.format(values1))\n",
    "print('生成随机数(np.random.randn): \\n{}'.format(values2))"
   ]
  },
  {
   "cell_type": "code",
   "execution_count": null,
   "metadata": {},
   "outputs": [],
   "source": []
  }
 ],
 "metadata": {
  "kernelspec": {
   "display_name": "opencv",
   "language": "python",
   "name": "python3"
  },
  "language_info": {
   "codemirror_mode": {
    "name": "ipython",
    "version": 3
   },
   "file_extension": ".py",
   "mimetype": "text/x-python",
   "name": "python",
   "nbconvert_exporter": "python",
   "pygments_lexer": "ipython3",
   "version": "3.7.12"
  }
 },
 "nbformat": 4,
 "nbformat_minor": 2
}
