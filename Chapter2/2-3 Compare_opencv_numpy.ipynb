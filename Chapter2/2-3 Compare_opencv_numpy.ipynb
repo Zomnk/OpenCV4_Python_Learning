{
 "cells": [
  {
   "cell_type": "markdown",
   "metadata": {},
   "source": [
    "### **OpenCV/NumPy对比示例**"
   ]
  },
  {
   "cell_type": "code",
   "execution_count": 1,
   "metadata": {},
   "outputs": [],
   "source": [
    "# -*- coding:utf-8 -*-\n",
    "import cv2 as cv\n",
    "import numpy as np\n",
    "import sys\n",
    "import datetime\n",
    "rootpath = '/home/zomnk/python_ws/02-OpenCV4/images/'"
   ]
  },
  {
   "cell_type": "code",
   "execution_count": 2,
   "metadata": {},
   "outputs": [],
   "source": [
    "image = cv.imread(rootpath + 'flower.jpg')\n",
    "# 读取图像，并判断图像是否读取成功\n",
    "if image is None:\n",
    "    print('Failed to read flowers.jpg')\n",
    "    sys.exit"
   ]
  },
  {
   "cell_type": "markdown",
   "metadata": {},
   "source": [
    "#### 对比通道的分离"
   ]
  },
  {
   "cell_type": "code",
   "execution_count": 4,
   "metadata": {},
   "outputs": [
    {
     "name": "stdout",
     "output_type": "stream",
     "text": [
      "通道分离(OpenCV):6.848343s\n",
      "通道分离(NumPy):0.037474s\n"
     ]
    }
   ],
   "source": [
    "# 使用OpenCV中的cv.split函数\n",
    "# 获取代码段运行开始时间\n",
    "begin1 = datetime.datetime.now()\n",
    "# 重复运行100000次代码，对比时间\n",
    "for i in range(100000):\n",
    "    b1, g1, r1 = cv.split(image)\n",
    "# 获取代码段结束时间\n",
    "end1 = datetime.datetime.now()\n",
    "print('通道分离(OpenCV):{}s'.format((end1-begin1).total_seconds()))\n",
    "# 使用NumPy中的切片和索引\n",
    "# 获取代码段运行开始时间\n",
    "begin2 = datetime.datetime.now()\n",
    "# 重复运行100000次代码，对比时间\n",
    "for i in range(100000):\n",
    "    b2 = image[:, :, 0]\n",
    "    g2 = image[:, :, 1]\n",
    "    r2 = image[:, :, 2]\n",
    "# 获取代码段结束时间\n",
    "end2 = datetime.datetime.now()\n",
    "print('通道分离(NumPy):{}s'.format((end2-begin2).total_seconds()))"
   ]
  },
  {
   "cell_type": "markdown",
   "metadata": {},
   "source": [
    "#### 将BGR图像转为RGB图像"
   ]
  },
  {
   "cell_type": "code",
   "execution_count": 5,
   "metadata": {},
   "outputs": [
    {
     "name": "stdout",
     "output_type": "stream",
     "text": [
      "BGR转RGB(OpenCV):2.813933s\n",
      "BGR转RGB(NumPy)):0.017408s\n"
     ]
    }
   ],
   "source": [
    "# 获取代码段运行开始时间\n",
    "begin3 = datetime.datetime.now()\n",
    "# 重复运行100000次代码，对比时间\n",
    "for i in range(100000):\n",
    "    image_rgb = cv.cvtColor(image, cv.COLOR_BGR2RGB)\n",
    "# 获取代码段结束时间\n",
    "end3 = datetime.datetime.now()\n",
    "print('BGR转RGB(OpenCV):{}s'.format((end3-begin3).total_seconds()))\n",
    "# 使用NumPy中的切片和索引\n",
    "# 获取代码段运行开始时间\n",
    "begin4 = datetime.datetime.now()\n",
    "# 重复运行100000次代码，对比时间\n",
    "for i in range(100000):\n",
    "    # [::-1] 顺序相反操作\n",
    "    image_rgb = image[:, :, ::-1]\n",
    "# 获取代码段结束时间\n",
    "end4 = datetime.datetime.now()\n",
    "print('BGR转RGB(NumPy)):{}s'.format((end4-begin4).total_seconds()))"
   ]
  },
  {
   "cell_type": "code",
   "execution_count": null,
   "metadata": {},
   "outputs": [],
   "source": []
  }
 ],
 "metadata": {
  "kernelspec": {
   "display_name": "opencv",
   "language": "python",
   "name": "python3"
  },
  "language_info": {
   "codemirror_mode": {
    "name": "ipython",
    "version": 3
   },
   "file_extension": ".py",
   "mimetype": "text/x-python",
   "name": "python",
   "nbconvert_exporter": "python",
   "pygments_lexer": "ipython3",
   "version": "3.7.12"
  }
 },
 "nbformat": 4,
 "nbformat_minor": 2
}
