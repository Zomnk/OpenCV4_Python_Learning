{
 "cells": [
  {
   "cell_type": "markdown",
   "metadata": {},
   "source": [
    "### **保存视频**"
   ]
  },
  {
   "cell_type": "code",
   "execution_count": 2,
   "metadata": {},
   "outputs": [],
   "source": [
    "# -*- coding:utf-8 -*-\n",
    "import cv2 as cv\n",
    "rootpath = '/home/zomnk/python_ws/02-OpenCV4/videos/'"
   ]
  },
  {
   "cell_type": "code",
   "execution_count": 5,
   "metadata": {},
   "outputs": [],
   "source": [
    "# 设置编/解码方式\n",
    "# 采用 MPEG-4编码\n",
    "fourcc = cv.VideoWriter_fourcc(*'DIVX')\n",
    "\n",
    "# 采用摄像头获取图像\n",
    "video = cv.VideoCapture(0)\n",
    "# 使用cv.VideoWriter()函数的原型\n",
    "# result = cv.VideoWriter()\n",
    "# result.open('/home/zomnk/python_ws/02-OpenCV4/my_video'+'Save_video.avi', fourcc, 20.0, (640, 280))\n",
    "# 使用cv.VideoWriter()的构造函数\n",
    "result = cv.VideoWriter('/home/zomnk/python_ws/02-OpenCV4/my_video/'+'Save_video.avi', fourcc, 20.0, (640, 480))\n",
    "\n",
    "# 判断是否成功创建视频流\n",
    "while video.isOpened():\n",
    "    ret, frame = video.read()\n",
    "    if ret is True:\n",
    "        # 将每一帧的图像进行水平翻转\n",
    "        frame = cv.flip(frame, 1)\n",
    "        # 将一帧帧图像写入视频\n",
    "        result.write(frame)\n",
    "        cv.imshow('Video', frame)\n",
    "        cv.waitKey(25)\n",
    "        # 按下Q键退出\n",
    "        if cv.waitKey(1) & 0xFF == ord('q'):\n",
    "            break\n",
    "    else:\n",
    "        break\n",
    "    \n",
    "# 释放并关闭窗口\n",
    "video.release()\n",
    "result.release()\n",
    "cv.destroyAllWindows()\n"
   ]
  },
  {
   "cell_type": "code",
   "execution_count": null,
   "metadata": {},
   "outputs": [],
   "source": []
  }
 ],
 "metadata": {
  "kernelspec": {
   "display_name": "opencv",
   "language": "python",
   "name": "python3"
  },
  "language_info": {
   "codemirror_mode": {
    "name": "ipython",
    "version": 3
   },
   "file_extension": ".py",
   "mimetype": "text/x-python",
   "name": "python",
   "nbconvert_exporter": "python",
   "pygments_lexer": "ipython3",
   "version": "3.7.12"
  }
 },
 "nbformat": 4,
 "nbformat_minor": 2
}
