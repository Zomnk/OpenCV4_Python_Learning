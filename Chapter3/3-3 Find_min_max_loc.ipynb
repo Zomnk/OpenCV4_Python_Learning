{
 "cells": [
  {
   "cell_type": "markdown",
   "metadata": {},
   "source": [
    "### **寻找矩阵的最值**"
   ]
  },
  {
   "cell_type": "code",
   "execution_count": 1,
   "metadata": {},
   "outputs": [],
   "source": [
    "# -*- coding:utf-8 -*-\n",
    "import cv2 as cv\n",
    "import numpy as np\n",
    "%matplotlib inline\n",
    "import matplotlib.pyplot as plt\n",
    "\n",
    "rootpath = '/home/zomnk/python_ws/02-OpenCV4/images/'"
   ]
  },
  {
   "cell_type": "code",
   "execution_count": 2,
   "metadata": {},
   "outputs": [
    {
     "name": "stdout",
     "output_type": "stream",
     "text": [
      "[[ 1  2  3  4]\n",
      " [ 5 10  6  7]\n",
      " [ 8  9 10  0]]\n",
      "图像img1中的最小值为0.0, 其位置为(3, 2)\n",
      "图像img1中的最大值为10.0, 其位置为(1, 1)\n"
     ]
    }
   ],
   "source": [
    "# 新建array\n",
    "array = np.array([1, 2, 3, 4, 5, 10, 6, 7, 8, 9, 10, 0])\n",
    "# 将array调整为维度为3*4的单通道图像\n",
    "img1 = array.reshape((3, 4))\n",
    "print(img1)\n",
    "minval_1, maxval_1, minloc_1, maxloc_1 = cv.minMaxLoc(img1)\n",
    "print('图像img1中的最小值为%s, 其位置为%s' % (minval_1, minloc_1))\n",
    "print('图像img1中的最大值为%s, 其位置为%s' % (maxval_1, maxloc_1))"
   ]
  },
  {
   "cell_type": "code",
   "execution_count": 3,
   "metadata": {},
   "outputs": [
    {
     "name": "stdout",
     "output_type": "stream",
     "text": [
      "[[ 1  2  3  4  5 10  6  7  8  9 10  0]]\n",
      "图像img2中的最小值为0.0, 其位置为(11, 0)\n",
      "图像img2中的最大值为10.0, 其位置为(5, 0)\n"
     ]
    }
   ],
   "source": [
    "# 将array重塑为3*2*2的多通道图像\n",
    "img2 = array.reshape((3, 2, 2))\n",
    "# 先将多通道图像重塑\n",
    "img2_re = img2.reshape(1, -1)\n",
    "print(img2_re)\n",
    "minval_2, maxval_2, minloc_2, maxloc_2 = cv.minMaxLoc(img2_re)\n",
    "print('图像img2中的最小值为%s, 其位置为%s' % (minval_2, minloc_2))\n",
    "print('图像img2中的最大值为%s, 其位置为%s' % (maxval_2, maxloc_2))"
   ]
  },
  {
   "cell_type": "code",
   "execution_count": null,
   "metadata": {},
   "outputs": [],
   "source": []
  }
 ],
 "metadata": {
  "kernelspec": {
   "display_name": "opencv",
   "language": "python",
   "name": "python3"
  },
  "language_info": {
   "codemirror_mode": {
    "name": "ipython",
    "version": 3
   },
   "file_extension": ".py",
   "mimetype": "text/x-python",
   "name": "python",
   "nbconvert_exporter": "python",
   "pygments_lexer": "ipython3",
   "version": "3.7.12"
  }
 },
 "nbformat": 4,
 "nbformat_minor": 2
}
