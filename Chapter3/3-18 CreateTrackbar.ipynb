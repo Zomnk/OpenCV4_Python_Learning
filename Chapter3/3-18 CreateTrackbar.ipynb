{
 "cells": [
  {
   "cell_type": "markdown",
   "metadata": {},
   "source": [
    "### **图像窗口滑动条**"
   ]
  },
  {
   "cell_type": "code",
   "execution_count": 13,
   "metadata": {},
   "outputs": [],
   "source": [
    "# -*- coding:utf-8 -*-\n",
    "import cv2 as cv\n",
    "import numpy as np\n",
    "import sys\n",
    "%matplotlib inline\n",
    "import matplotlib\n",
    "import matplotlib.pyplot as plt\n",
    "# 设置中文字体\n",
    "matplotlib.rcParams['font.family'] = 'simhei'\n",
    "matplotlib.rcParams['axes.unicode_minus'] = False\n",
    "rootpath = '/home/zomnk/python_ws/02-OpenCV4/images/'"
   ]
  },
  {
   "cell_type": "code",
   "execution_count": 14,
   "metadata": {},
   "outputs": [],
   "source": [
    "def call_back1_brightness(x):\n",
    "    global value, img, img1\n",
    "    # 获取滑动条的当前值\n",
    "    value = cv.getTrackbarPos('brightness', 'Brighter')\n",
    "    # 亮度改变后的图像\n",
    "    # 将 value/100*img 的值限定在0~255之间\n",
    "    img1 = np.uint8(np.clip((value / 100 * img), 0, 255))"
   ]
  },
  {
   "cell_type": "code",
   "execution_count": 15,
   "metadata": {},
   "outputs": [],
   "source": [
    "# 读取图像并判断是否读取成功\n",
    "img = cv.imread(rootpath +'lena.jpg')\n",
    "img1 = img.copy()\n",
    "if img is None:\n",
    "    print('Failed to read lena.jpg')\n",
    "    sys.exit"
   ]
  },
  {
   "cell_type": "code",
   "execution_count": 17,
   "metadata": {},
   "outputs": [],
   "source": [
    "# 定义窗口名称\n",
    "cv.namedWindow('Brighter')\n",
    "# 设置滑动条的初始值为100\n",
    "value = 100\n",
    "# 创建滑动条\n",
    "cv.createTrackbar('brightness', 'Brighter', value, 300, call_back1_brightness)\n",
    "while True:\n",
    "    cv.imshow('Brighter', img1)\n",
    "    if cv.waitKey(1) == ord('q'):\n",
    "        break\n",
    "cv.destroyAllWindows()"
   ]
  },
  {
   "cell_type": "code",
   "execution_count": null,
   "metadata": {},
   "outputs": [],
   "source": []
  }
 ],
 "metadata": {
  "kernelspec": {
   "display_name": "opencv",
   "language": "python",
   "name": "python3"
  },
  "language_info": {
   "codemirror_mode": {
    "name": "ipython",
    "version": 3
   },
   "file_extension": ".py",
   "mimetype": "text/x-python",
   "name": "python",
   "nbconvert_exporter": "python",
   "pygments_lexer": "ipython3",
   "version": "3.7.12"
  }
 },
 "nbformat": 4,
 "nbformat_minor": 2
}
