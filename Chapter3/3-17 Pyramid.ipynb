{
 "cells": [
  {
   "cell_type": "markdown",
   "metadata": {},
   "source": [
    "### **图像金字塔**"
   ]
  },
  {
   "cell_type": "code",
   "execution_count": 1,
   "metadata": {},
   "outputs": [],
   "source": [
    "# -*- coding:utf-8 -*-\n",
    "import cv2 as cv\n",
    "import numpy as np\n",
    "import sys\n",
    "%matplotlib inline\n",
    "import matplotlib\n",
    "import matplotlib.pyplot as plt\n",
    "# 设置中文字体\n",
    "matplotlib.rcParams['font.family'] = 'simhei'\n",
    "matplotlib.rcParams['axes.unicode_minus'] = False\n",
    "rootpath = '/home/zomnk/python_ws/02-OpenCV4/images/'"
   ]
  },
  {
   "cell_type": "code",
   "execution_count": 2,
   "metadata": {},
   "outputs": [],
   "source": [
    "# 构建高斯金字塔\n",
    "def gauss_image(image):\n",
    "    # 设置下采样次数\n",
    "    level = 3\n",
    "    # 深拷贝\n",
    "    img = image.copy()\n",
    "    gauss_image = []\n",
    "    gauss_image.append(img)\n",
    "    cv.imshow('Gauss_0', img)\n",
    "    for i in range(level):\n",
    "        dst = cv.pyrDown(img)\n",
    "        gauss_image.append(dst)\n",
    "        cv.imshow('Gauss_{}'.format(i + 1), dst)\n",
    "        img = dst.copy() # 更新层数\n",
    "    return gauss_image"
   ]
  },
  {
   "cell_type": "code",
   "execution_count": 3,
   "metadata": {},
   "outputs": [],
   "source": [
    "# 构建拉普拉斯金字塔\n",
    "def laplian_image(image):\n",
    "    # 获取高斯金字塔\n",
    "    gauss_images = gauss_image(image)\n",
    "    # 拉普拉斯金字塔的层数即为高斯金字塔的层数\n",
    "    level = len(gauss_images)\n",
    "    # 迭代创建拉普拉斯金字塔\n",
    "    for i in range(level - 1, 0, -1):\n",
    "        expand = cv.pyrUp(gauss_images[i], dstsize=gauss_images[i - 1].shape[:2])\n",
    "        # 进行差值运算\n",
    "        lpls = cv.subtract(gauss_images[i - 1], expand)\n",
    "        cv.imshow('Lapiacian_{}'.format(level - i), lpls)\n",
    "    # 为了构建最上面一层，需要先进行下采样再进行上采样\n",
    "    expand = cv.pyrUp(cv.pyrDown(gauss_images[3]), dstsize = gauss_images[3].shape[:2])\n",
    "    # 进行差值运算\n",
    "    lpls = cv.subtract(gauss_images[3], expand)\n",
    "    cv.imshow('Laplacian_{}'.format(0), lpls)"
   ]
  },
  {
   "cell_type": "code",
   "execution_count": 4,
   "metadata": {},
   "outputs": [],
   "source": [
    "# 读取图像并判断是否读取成功\n",
    "G0 = cv.imread(rootpath +'lena.jpg')\n",
    "if G0 is None:\n",
    "    print('Failed to read lena.jpg')\n",
    "    sys.exit"
   ]
  },
  {
   "cell_type": "code",
   "execution_count": 5,
   "metadata": {},
   "outputs": [],
   "source": [
    "# 展示结果\n",
    "laplian_image(G0)\n",
    "cv.waitKey(0)\n",
    "cv.destroyAllWindows()"
   ]
  }
 ],
 "metadata": {
  "kernelspec": {
   "display_name": "opencv",
   "language": "python",
   "name": "python3"
  },
  "language_info": {
   "codemirror_mode": {
    "name": "ipython",
    "version": 3
   },
   "file_extension": ".py",
   "mimetype": "text/x-python",
   "name": "python",
   "nbconvert_exporter": "python",
   "pygments_lexer": "ipython3",
   "version": "3.7.12"
  }
 },
 "nbformat": 4,
 "nbformat_minor": 2
}
