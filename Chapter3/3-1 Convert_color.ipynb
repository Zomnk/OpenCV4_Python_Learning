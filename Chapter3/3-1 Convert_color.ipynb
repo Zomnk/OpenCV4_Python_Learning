{
 "cells": [
  {
   "cell_type": "markdown",
   "metadata": {},
   "source": [
    "### **颜色空间转换**"
   ]
  },
  {
   "cell_type": "code",
   "execution_count": 1,
   "metadata": {},
   "outputs": [],
   "source": [
    "# -*- coding:utf-8 -*-\n",
    "import cv2 as cv\n",
    "import sys\n",
    "import numpy as np\n",
    "rootpath = '/home/zomnk/python_ws/02-OpenCV4/images/'"
   ]
  },
  {
   "cell_type": "code",
   "execution_count": 2,
   "metadata": {},
   "outputs": [],
   "source": [
    "img = cv.imread(rootpath + 'lena.jpg')\n",
    "# 读取图像，并判断图像是否读取成功\n",
    "if img is None:\n",
    "    print('Failed to read lena.jpg')\n",
    "    sys.exit\n",
    "else:\n",
    "    # 将图像进行颜色空间的转换\n",
    "    # 利用astype函数将uint8转换为float32\n",
    "    image = img.astype('float32')\n",
    "    image *= 1.0 / 255\n",
    "    HSV = cv.cvtColor(image, cv.COLOR_BGR2HSV)\n",
    "    YUV = cv.cvtColor(image, cv.COLOR_BGR2YUV)\n",
    "    Lab = cv.cvtColor(image, cv.COLOR_BGR2Lab)\n",
    "    GRAY = cv.cvtColor(image, cv.COLOR_BGR2GRAY)\n",
    "    \n",
    "    # 展示结果\n",
    "    cv.imshow('Origin Image', image)\n",
    "    cv.imshow('HSV Image', HSV)\n",
    "    cv.imshow('YUV Image', YUV)\n",
    "    cv.imshow('GRAY Image', Lab)\n",
    "    # 由于计算出的Lab结果可能有负数值，不能通过cv.imshow()函数显示\n",
    "    # 因此我们可以先使用cv.imwrite()函数保存再进行查看\n",
    "    cv.imwrite('/home/zomnk/python_ws/02-OpenCV4/my_image/'+'Convert_color_Lab.jpg', Lab)\n",
    "    cv.imwrite('/home/zomnk/python_ws/02-OpenCV4/my_image/'+'Convert_color_HSV.jpg', HSV)\n",
    "    cv.imwrite('/home/zomnk/python_ws/02-OpenCV4/my_image/'+'Convert_color_YUV.jpg', YUV)\n",
    "    cv.imwrite('/home/zomnk/python_ws/02-OpenCV4/my_image/'+'Convert_color_GRAY.jpg', GRAY)\n",
    "    cv.imshow('GRAY Image', GRAY)\n",
    "    \n",
    "    # 关闭窗口\n",
    "    cv.waitKey(0)\n",
    "    cv.destroyAllWindows()"
   ]
  },
  {
   "cell_type": "code",
   "execution_count": null,
   "metadata": {},
   "outputs": [],
   "source": []
  }
 ],
 "metadata": {
  "kernelspec": {
   "display_name": "opencv",
   "language": "python",
   "name": "python3"
  },
  "language_info": {
   "codemirror_mode": {
    "name": "ipython",
    "version": 3
   },
   "file_extension": ".py",
   "mimetype": "text/x-python",
   "name": "python",
   "nbconvert_exporter": "python",
   "pygments_lexer": "ipython3",
   "version": "3.7.12"
  }
 },
 "nbformat": 4,
 "nbformat_minor": 2
}
