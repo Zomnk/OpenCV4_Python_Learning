{
 "cells": [
  {
   "cell_type": "markdown",
   "metadata": {},
   "source": [
    "### **鼠标响应**"
   ]
  },
  {
   "cell_type": "markdown",
   "metadata": {},
   "source": [
    "鼠标响应就是当鼠标指针位于对应的图像窗口内，时刻检测鼠标指针的状态当指针状态发生改变时就调用回调函数\n",
    "\n",
    "常用的鼠标响应时间可选标志有：\n",
    "* EVENT_MOUSEMOVE 0  鼠标指针在窗口上滑动\n",
    "* EVENT_LBUTTONDOWN 1 左键点击\n",
    "* EVENT_RBUTTONDOWN 2 右键点击\n",
    "* EVENT_MBUTTONDOWN 3 中键点击\n",
    "* EVENT_LBUTTONUP 4 左键释放\n",
    "* EVENT_RBUTTONUP 5 右键释放\n",
    "* EVENT_MBUTTONUP 6 中键释放\n",
    "* EVENT_LBUTTONDBLCLK 7 左键双击\n",
    "* EVENT_RBUTTONDBLCLK 8 右键双击\n",
    "* EVENT_MBUTTONDBLCLK 9 中键双击\n",
    "* EVENT_MOUSEWHEEL 10 正值表示向前滚动，负值表示向后滚动\n",
    "* EVENT_MOUSEHWHEEL 11 正值表示向左滚动，负值表示向右滚动"
   ]
  },
  {
   "cell_type": "markdown",
   "metadata": {},
   "source": [
    "常用的回调函数鼠标响应标志有：\n",
    "* EVENT_FLAG_LBUTTON 1 按住鼠标左键拖曳\n",
    "* EVENT_FLAG_RBUTTON 2 按住鼠标右键拖曳\n",
    "* EVENT_FLAG_MBUTTON 4 按住鼠标中键拖曳\n",
    "* EVENT_FLAG_CTRLKEY 8 按 Ctrl 不放\n",
    "* EVENT_FLAG_SHIFTKEY 16 按 Shift 不放\n",
    "* EVENT_FLAG_ALTKEY 32 按 Alt 不放"
   ]
  },
  {
   "cell_type": "code",
   "execution_count": 30,
   "metadata": {},
   "outputs": [],
   "source": [
    "# -*- coding:utf-8 -*-\n",
    "import cv2 as cv\n",
    "import numpy as np\n",
    "import sys\n",
    "%matplotlib inline\n",
    "import matplotlib\n",
    "import matplotlib.pyplot as plt\n",
    "# 设置中文字体\n",
    "matplotlib.rcParams['font.family'] = 'simhei'\n",
    "matplotlib.rcParams['axes.unicode_minus'] = False\n",
    "rootpath = '/home/zomnk/python_ws/02-OpenCV4/images/'"
   ]
  },
  {
   "cell_type": "code",
   "execution_count": 31,
   "metadata": {},
   "outputs": [],
   "source": [
    "def draw(event, x, y, flags, param):\n",
    "    global img, pre_pts\n",
    "    # 鼠标右键按下\n",
    "    if event == cv.EVENT_RBUTTONDOWN:\n",
    "        print('请单击鼠标左键进行轨迹的绘制')\n",
    "    # 鼠标左键按下\n",
    "    if event == cv.EVENT_LBUTTONDOWN:\n",
    "        pre_pts = (x, y)\n",
    "        print('轨迹起始坐标为：({}, {})'.format(x, y))\n",
    "    # 鼠标指针移动\n",
    "    if event == cv.EVENT_MOUSEMOVE and flags == cv.EVENT_FLAG_LBUTTON:\n",
    "        pts = (x, y)\n",
    "        img = cv.line(img, pre_pts, pts, (0, 255, 0), 2, 5, 0)\n",
    "        pre_pts = pts # 更新坐标\n",
    "        cv.imshow('Image', img)"
   ]
  },
  {
   "cell_type": "code",
   "execution_count": 32,
   "metadata": {},
   "outputs": [],
   "source": [
    "# 读取图像并判断是否读取成功\n",
    "img = cv.imread(rootpath +'lena.jpg')\n",
    "img1 = img.copy()\n",
    "if img is None:\n",
    "    print('Failed to read lena.jpg')\n",
    "    sys.exit"
   ]
  },
  {
   "cell_type": "code",
   "execution_count": 33,
   "metadata": {},
   "outputs": [
    {
     "name": "stdout",
     "output_type": "stream",
     "text": [
      "轨迹起始坐标为：(125, 159)\n",
      "轨迹起始坐标为：(9, 53)\n",
      "轨迹起始坐标为：(91, 112)\n",
      "轨迹起始坐标为：(99, 113)\n",
      "轨迹起始坐标为：(54, 141)\n",
      "轨迹起始坐标为：(50, 129)\n",
      "轨迹起始坐标为：(42, 111)\n"
     ]
    }
   ],
   "source": [
    "# 展示结果\n",
    "pre_pts = (-1. -1)\n",
    "cv.imshow('Image', img)\n",
    "# 调用回调函数\n",
    "cv.setMouseCallback('Image', draw)\n",
    "cv.waitKey(0)\n",
    "cv.destroyAllWindows()"
   ]
  }
 ],
 "metadata": {
  "kernelspec": {
   "display_name": "opencv",
   "language": "python",
   "name": "python3"
  },
  "language_info": {
   "codemirror_mode": {
    "name": "ipython",
    "version": 3
   },
   "file_extension": ".py",
   "mimetype": "text/x-python",
   "name": "python",
   "nbconvert_exporter": "python",
   "pygments_lexer": "ipython3",
   "version": "3.7.12"
  }
 },
 "nbformat": 4,
 "nbformat_minor": 2
}
