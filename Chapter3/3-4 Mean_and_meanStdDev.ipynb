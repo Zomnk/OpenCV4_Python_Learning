{
 "cells": [
  {
   "cell_type": "markdown",
   "metadata": {},
   "source": [
    "### **计算图像的均值和标准差**"
   ]
  },
  {
   "cell_type": "code",
   "execution_count": 1,
   "metadata": {},
   "outputs": [],
   "source": [
    "# -*- coding:utf-8 -*-\n",
    "import cv2 as cv\n",
    "import numpy as np\n",
    "%matplotlib inline\n",
    "import matplotlib.pyplot as plt\n",
    "\n",
    "rootpath = '/home/zomnk/python_ws/02-OpenCV4/images/'"
   ]
  },
  {
   "cell_type": "code",
   "execution_count": 2,
   "metadata": {},
   "outputs": [
    {
     "name": "stdout",
     "output_type": "stream",
     "text": [
      "[[ 1  2  3  4]\n",
      " [ 5 10  6  7]\n",
      " [ 8  9 10  0]] [[[ 1  2]\n",
      "  [ 3  4]]\n",
      "\n",
      " [[ 5 10]\n",
      "  [ 6  7]]\n",
      "\n",
      " [[ 8  9]\n",
      "  [10  0]]]\n"
     ]
    }
   ],
   "source": [
    "# 新建array\n",
    "array = np.array([1, 2, 3, 4, 5, 10, 6, 7, 8, 9, 10, 0])\n",
    "# 将array调整为维度为3*4的单通道图像\n",
    "img1 = array.reshape((3, 4))\n",
    "# 将array重塑为3*2*2的多通道图像\n",
    "img2 = array.reshape((3, 2, 2))\n",
    "print(img1, img2)"
   ]
  },
  {
   "cell_type": "code",
   "execution_count": 3,
   "metadata": {},
   "outputs": [],
   "source": [
    "# 分别计算图像img1和img2的均值和标准差\n",
    "mean_img1 = cv.mean(img1)\n",
    "mean_img2 = cv.mean(img2)\n",
    "mean_std_dev_img1 = cv.meanStdDev(img1)\n",
    "mean_std_dev_img2 = cv.meanStdDev(img2)"
   ]
  },
  {
   "cell_type": "code",
   "execution_count": 4,
   "metadata": {},
   "outputs": [
    {
     "name": "stdout",
     "output_type": "stream",
     "text": [
      "cv.mean()函数计算结果如下：\n",
      "图像img1的均值为(5.416666666666666, 0.0, 0.0, 0.0)\n",
      "图像img2的均值为(5.5, 5.333333333333333, 0.0, 0.0), \n",
      "其中第1个通道的均值为5.5, \n",
      "第二个通道的均值为5.333333333333333\n"
     ]
    }
   ],
   "source": [
    "# 输出cv.mean()函数的计算结果\n",
    "print('cv.mean()函数计算结果如下：')\n",
    "print('图像img1的均值为{}'.format(mean_img1))\n",
    "print('图像img2的均值为{}, \\n其中第1个通道的均值为{}, \\n第二个通道的均值为{}'.format(mean_img2, mean_img2[0], mean_img2[1]))"
   ]
  },
  {
   "cell_type": "code",
   "execution_count": 5,
   "metadata": {},
   "outputs": [
    {
     "name": "stdout",
     "output_type": "stream",
     "text": [
      "cv.meanStdDev()函数的计算结果如下：\n",
      "图像img1的均值为5.416666666666666, \n",
      "标准差为3.32812092461931\n",
      "图像img2的均值为(5.5, 5.333333333333333, 0.0, 0.0), \n",
      "其中第1个通道的均值为5.5, \n",
      " 第2个通道的均值为5.333333333333333\n",
      "标准差为[[2.98607881]\n",
      " [3.63623737]], \n",
      "其中第1个通道的标准差为2.9860788111948193, \n",
      "第2个通道的标准差为3.636237371545238\n"
     ]
    }
   ],
   "source": [
    "# 输出cv.meanStdDev()函数的计算结果\n",
    "print('cv.meanStdDev()函数的计算结果如下：')\n",
    "print('图像img1的均值为{}, \\n标准差为{}'.format(mean_img1[0], float(mean_std_dev_img1[1])))\n",
    "print('图像img2的均值为{}, \\n其中第1个通道的均值为{}, \\n 第2个通道的均值为{}\\n'\n",
    "      '标准差为{}, \\n其中第1个通道的标准差为{}, \\n第2个通道的标准差为{}'.format(mean_img2, mean_img2[0], mean_img2[1], mean_std_dev_img2[1], float(mean_std_dev_img2[1][0]), float(mean_std_dev_img2[1][1])))"
   ]
  },
  {
   "cell_type": "code",
   "execution_count": null,
   "metadata": {},
   "outputs": [],
   "source": []
  }
 ],
 "metadata": {
  "kernelspec": {
   "display_name": "opencv",
   "language": "python",
   "name": "python3"
  },
  "language_info": {
   "codemirror_mode": {
    "name": "ipython",
    "version": 3
   },
   "file_extension": ".py",
   "mimetype": "text/x-python",
   "name": "python",
   "nbconvert_exporter": "python",
   "pygments_lexer": "ipython3",
   "version": "3.7.12"
  }
 },
 "nbformat": 4,
 "nbformat_minor": 2
}
